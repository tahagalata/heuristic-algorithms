{
 "cells": [
  {
   "cell_type": "code",
   "execution_count": 1,
   "id": "6e8a39bc-41f2-4bd6-bf4c-51eb9dd7e5de",
   "metadata": {},
   "outputs": [],
   "source": [
    "import numpy as np\n",
    "import pandas as pd\n",
    "from scipy.optimize import linprog"
   ]
  },
  {
   "cell_type": "code",
   "execution_count": 2,
   "id": "25700b08-5c89-4c7f-8c4c-252afecd9c64",
   "metadata": {},
   "outputs": [],
   "source": [
    "c_list = [[83.16, 122.22, 82.62, 133.50, 81.81, 65.70, 52.89],\n",
    "          [97.20, 98.28, 75.48, 147.00, 40.50, 70.20, 110.94],\n",
    "          [123.84, 99.12, 76.16, 130.00, 79.92, 38.40, 101.48],\n",
    "          [75.60, 123.48, 42.84, 195.00, 72.90, 88.20, 59.34],\n",
    "          [139.32, 107.10, 78.54, 121.50, 36.45, 65.70, 99.33],\n",
    "          [83.88, 92.82, 124.10, 134.50, 75.87, 69.90, 48.59]]\n",
    "c= pd.DataFrame(c_list, index=range(1,7), columns=range(1,8))"
   ]
  },
  {
   "cell_type": "code",
   "execution_count": 3,
   "id": "c949a3fb-4512-428e-a0c3-aaae6a3ff706",
   "metadata": {},
   "outputs": [
    {
     "data": {
      "text/html": [
       "<div>\n",
       "<style scoped>\n",
       "    .dataframe tbody tr th:only-of-type {\n",
       "        vertical-align: middle;\n",
       "    }\n",
       "\n",
       "    .dataframe tbody tr th {\n",
       "        vertical-align: top;\n",
       "    }\n",
       "\n",
       "    .dataframe thead th {\n",
       "        text-align: right;\n",
       "    }\n",
       "</style>\n",
       "<table border=\"1\" class=\"dataframe\">\n",
       "  <thead>\n",
       "    <tr style=\"text-align: right;\">\n",
       "      <th></th>\n",
       "      <th>1</th>\n",
       "      <th>2</th>\n",
       "      <th>3</th>\n",
       "      <th>4</th>\n",
       "      <th>5</th>\n",
       "      <th>6</th>\n",
       "      <th>7</th>\n",
       "    </tr>\n",
       "  </thead>\n",
       "  <tbody>\n",
       "    <tr>\n",
       "      <th>1</th>\n",
       "      <td>83.16</td>\n",
       "      <td>122.22</td>\n",
       "      <td>82.62</td>\n",
       "      <td>133.5</td>\n",
       "      <td>81.81</td>\n",
       "      <td>65.7</td>\n",
       "      <td>52.89</td>\n",
       "    </tr>\n",
       "    <tr>\n",
       "      <th>2</th>\n",
       "      <td>97.20</td>\n",
       "      <td>98.28</td>\n",
       "      <td>75.48</td>\n",
       "      <td>147.0</td>\n",
       "      <td>40.50</td>\n",
       "      <td>70.2</td>\n",
       "      <td>110.94</td>\n",
       "    </tr>\n",
       "    <tr>\n",
       "      <th>3</th>\n",
       "      <td>123.84</td>\n",
       "      <td>99.12</td>\n",
       "      <td>76.16</td>\n",
       "      <td>130.0</td>\n",
       "      <td>79.92</td>\n",
       "      <td>38.4</td>\n",
       "      <td>101.48</td>\n",
       "    </tr>\n",
       "    <tr>\n",
       "      <th>4</th>\n",
       "      <td>75.60</td>\n",
       "      <td>123.48</td>\n",
       "      <td>42.84</td>\n",
       "      <td>195.0</td>\n",
       "      <td>72.90</td>\n",
       "      <td>88.2</td>\n",
       "      <td>59.34</td>\n",
       "    </tr>\n",
       "    <tr>\n",
       "      <th>5</th>\n",
       "      <td>139.32</td>\n",
       "      <td>107.10</td>\n",
       "      <td>78.54</td>\n",
       "      <td>121.5</td>\n",
       "      <td>36.45</td>\n",
       "      <td>65.7</td>\n",
       "      <td>99.33</td>\n",
       "    </tr>\n",
       "    <tr>\n",
       "      <th>6</th>\n",
       "      <td>83.88</td>\n",
       "      <td>92.82</td>\n",
       "      <td>124.10</td>\n",
       "      <td>134.5</td>\n",
       "      <td>75.87</td>\n",
       "      <td>69.9</td>\n",
       "      <td>48.59</td>\n",
       "    </tr>\n",
       "  </tbody>\n",
       "</table>\n",
       "</div>"
      ],
      "text/plain": [
       "        1       2       3      4      5     6       7\n",
       "1   83.16  122.22   82.62  133.5  81.81  65.7   52.89\n",
       "2   97.20   98.28   75.48  147.0  40.50  70.2  110.94\n",
       "3  123.84   99.12   76.16  130.0  79.92  38.4  101.48\n",
       "4   75.60  123.48   42.84  195.0  72.90  88.2   59.34\n",
       "5  139.32  107.10   78.54  121.5  36.45  65.7   99.33\n",
       "6   83.88   92.82  124.10  134.5  75.87  69.9   48.59"
      ]
     },
     "execution_count": 3,
     "metadata": {},
     "output_type": "execute_result"
    }
   ],
   "source": [
    "c #i: potential sites, j: farms"
   ]
  },
  {
   "cell_type": "code",
   "execution_count": 4,
   "id": "dff8fc94-4217-4cc6-9a3c-572e9cb945f7",
   "metadata": {},
   "outputs": [
    {
     "data": {
      "text/plain": [
       "1    36\n",
       "2    42\n",
       "3    34\n",
       "4    50\n",
       "5    27\n",
       "6    30\n",
       "7    43\n",
       "dtype: int64"
      ]
     },
     "execution_count": 4,
     "metadata": {},
     "output_type": "execute_result"
    }
   ],
   "source": [
    "d= pd.Series([36, 42, 34, 50, 27, 30, 43], index=range(1,8))\n",
    "d# Demands of farms"
   ]
  },
  {
   "cell_type": "code",
   "execution_count": 5,
   "id": "c8f101df-b817-4bcd-bfd1-7f9a3ce7aedc",
   "metadata": {},
   "outputs": [
    {
     "data": {
      "text/plain": [
       "1     80\n",
       "2     90\n",
       "3    110\n",
       "4    120\n",
       "5    100\n",
       "6    120\n",
       "dtype: int64"
      ]
     },
     "execution_count": 5,
     "metadata": {},
     "output_type": "execute_result"
    }
   ],
   "source": [
    "q= pd.Series([80,90, 110, 120, 100, 120], index= range(1,7))\n",
    "q # Daily forage throughput of potential sites (supplies)"
   ]
  },
  {
   "cell_type": "code",
   "execution_count": 6,
   "id": "38e88cff-9e8d-4c3e-bea8-f27fe2290565",
   "metadata": {},
   "outputs": [
    {
     "data": {
      "text/plain": [
       "1    220\n",
       "2    240\n",
       "3    260\n",
       "4    275\n",
       "5    240\n",
       "6    230\n",
       "dtype: int64"
      ]
     },
     "execution_count": 6,
     "metadata": {},
     "output_type": "execute_result"
    }
   ],
   "source": [
    "f= pd.Series([220, 240, 260, 275, 240, 230], index= range(1,7))\n",
    "f #daily fixed cost of potential sites                 "
   ]
  },
  {
   "cell_type": "code",
   "execution_count": 7,
   "id": "36ff1b57-9994-492b-8ccd-9449e64dbb62",
   "metadata": {},
   "outputs": [],
   "source": [
    "def calc_sub_lb(i, lambdas):\n",
    "    x_i = pd.Series([0] * 7, index=range(1,8), dtype='float64')\n",
    "    c_i = c.loc[i]\n",
    "    remaining_cap = q[i]\n",
    "    \n",
    "    ratio = (c_i + lambdas) / d\n",
    "    asc_order = ratio.sort_values().index\n",
    "    for j in asc_order:\n",
    "        d_j = d[j]\n",
    "        x_curr = min(1, remaining_cap/d_j)\n",
    "        x_i[j] = x_curr\n",
    "        remaining_cap -= x_curr * d_j\n",
    "        \n",
    "        if remaining_cap == 0:\n",
    "            break\n",
    "            \n",
    "    cost = np.sum(x_i * (c_i + lambdas)) + f[i]\n",
    "    if cost < 0:\n",
    "        return cost, x_i\n",
    "    else:\n",
    "        x_i = pd.Series([0] * 7, index=range(1,8), dtype='float64')\n",
    "        return 0, x_i"
   ]
  },
  {
   "cell_type": "code",
   "execution_count": 8,
   "id": "07c80e22-bdfd-4db5-a85e-a6bb8dc45a7b",
   "metadata": {},
   "outputs": [
    {
     "data": {
      "text/plain": [
       "(-6.767058823529396,\n",
       " 1    1.000000\n",
       " 2    0.000000\n",
       " 3    0.411765\n",
       " 4    0.000000\n",
       " 5    0.000000\n",
       " 6    1.000000\n",
       " 7    0.000000\n",
       " dtype: float64)"
      ]
     },
     "execution_count": 8,
     "metadata": {},
     "output_type": "execute_result"
    }
   ],
   "source": [
    "calc_sub_lb(1, [-186, -170,-140,60,-115,-166,-112])"
   ]
  },
  {
   "cell_type": "code",
   "execution_count": 9,
   "id": "94470f06-c065-4096-8281-978fcc548521",
   "metadata": {},
   "outputs": [],
   "source": [
    "def calc_lb(lambdas):\n",
    "    sub_lb_list = []\n",
    "    x_df = pd.DataFrame()\n",
    "    for i in range(1,7):\n",
    "        sub_lb, x_i = calc_sub_lb(i, lambdas)\n",
    "        sub_lb_list.append(sub_lb)\n",
    "        x_df = pd.concat([x_df, x_i], axis=1)\n",
    "        \n",
    "    x_df = x_df.transpose()\n",
    "    x_df.index = range(1,7)\n",
    "    return sum(sub_lb_list) - sum(lambdas), x_df"
   ]
  },
  {
   "cell_type": "code",
   "execution_count": 10,
   "id": "cd49b86d-9eff-41a4-822a-8bdc7142b7da",
   "metadata": {},
   "outputs": [
    {
     "data": {
      "text/plain": [
       "(681.6271801330352,\n",
       "           1         2         3    4         5    6        7\n",
       " 1  1.000000  0.000000  0.411765  0.0  0.000000  1.0  0.00000\n",
       " 2  0.916667  0.000000  0.000000  0.0  1.000000  1.0  0.00000\n",
       " 3  1.000000  0.238095  1.000000  0.0  0.000000  1.0  0.00000\n",
       " 4  1.000000  0.000000  1.000000  0.0  0.740741  1.0  0.00000\n",
       " 5  0.000000  0.214286  1.000000  0.0  1.000000  1.0  0.00000\n",
       " 6  1.000000  1.000000  0.000000  0.0  0.000000  1.0  0.27907)"
      ]
     },
     "execution_count": 10,
     "metadata": {},
     "output_type": "execute_result"
    }
   ],
   "source": [
    "calc_lb([-186,-170,-140,60,-115,-166,-112])"
   ]
  },
  {
   "cell_type": "code",
   "execution_count": 11,
   "id": "368e014d-3a83-4c56-8058-ac2f755a4484",
   "metadata": {},
   "outputs": [],
   "source": [
    "def simplex(facilities):\n",
    "    coefs = c.loc[facilities, :].to_numpy().flatten()\n",
    "    num_i = len(facilities)\n",
    "    \n",
    "    smaller_coef = np.zeros((num_i,num_i*7), dtype='float64')\n",
    "    for i in range(num_i):\n",
    "        j = 7 * i\n",
    "        smaller_coef[i][j : j + 7] = d\n",
    "        \n",
    "    smaller_rhs = q[facilities]\n",
    "    \n",
    "    equal_coef = np.zeros((7, num_i * 7))\n",
    "    for i in range(7):\n",
    "        equal_coef[i][i::7] = [1] * num_i\n",
    "    \n",
    "    equal_rhs = [1] * 7\n",
    "    \n",
    "    res = linprog(coefs,\n",
    "                  A_ub=smaller_coef, b_ub=smaller_rhs, \n",
    "                  A_eq=equal_coef, b_eq=equal_rhs, \n",
    "                  method='revised simplex')\n",
    "    return res"
   ]
  },
  {
   "cell_type": "code",
   "execution_count": 12,
   "id": "99e5009b-47a5-4e8e-b57b-2f76e7f4318e",
   "metadata": {},
   "outputs": [],
   "source": [
    "def calc_ub(lambdas):\n",
    "    # Finding facilities to be activated\n",
    "    activated_fac = []\n",
    "    demand_satisfied = 0\n",
    "    total_demand = np.sum(d)\n",
    "    \n",
    "    sub_lb_series = pd.Series([calc_sub_lb(i, lambdas)[0] for i in range(1,7)], index=range(1,7))\n",
    "    asc_order = sub_lb_series.sort_values().index\n",
    "    \n",
    "    for i in asc_order:\n",
    "        if demand_satisfied < total_demand:\n",
    "            activated_fac.append(i)\n",
    "            demand_satisfied += q[i]\n",
    "        else:\n",
    "            break\n",
    "    \n",
    "    # Customer Allocation to the Selected Facilities\n",
    "    activated_fac.sort()\n",
    "    \n",
    "    simplex_result = simplex(activated_fac)\n",
    "    f_value = simplex_result.fun + np.sum(f[activated_fac])\n",
    "    x = simplex_result.x\n",
    "    x_split = np.split(x, len(activated_fac))\n",
    "    x_df = pd.DataFrame(x_split, columns=range(1,8), index= activated_fac)\n",
    "    \n",
    "    return f_value , x_df"
   ]
  },
  {
   "cell_type": "code",
   "execution_count": 13,
   "id": "b138c350-f128-420b-8767-af1a1197a2d3",
   "metadata": {},
   "outputs": [
    {
     "data": {
      "text/plain": [
       "(1229.48,\n",
       "               1    2    3    4    5             6    7\n",
       " 4  1.000000e+00  0.0  1.0  0.0  0.0 -2.775558e-17  0.0\n",
       " 5  0.000000e+00  0.0  0.0  1.0  1.0  7.666667e-01  0.0\n",
       " 6  1.232595e-32  1.0  0.0  0.0  0.0  2.333333e-01  1.0)"
      ]
     },
     "execution_count": 13,
     "metadata": {},
     "output_type": "execute_result"
    }
   ],
   "source": [
    "calc_ub([-186, -170, -140, 60, -115, -166, -112])"
   ]
  },
  {
   "cell_type": "code",
   "execution_count": 14,
   "id": "aaaac1df-2131-4cff-9d91-366594aef808",
   "metadata": {},
   "outputs": [],
   "source": [
    "def subgrad(x_df):\n",
    "    return (x_df.sum(axis=0) - 1).to_numpy()"
   ]
  },
  {
   "cell_type": "code",
   "execution_count": 15,
   "id": "e4265e5d-439e-4660-b4ca-877d121910ec",
   "metadata": {},
   "outputs": [],
   "source": [
    "def B(alpha, ub, lb_h, subgrad_list):\n",
    "    return (alpha * (ub - lb_h)) / np.sum(subgrad_list**2)\n",
    "    # En iyi Lower bound ver"
   ]
  },
  {
   "cell_type": "code",
   "execution_count": 16,
   "id": "c83d5e69-4513-4507-810f-597b796d6411",
   "metadata": {},
   "outputs": [],
   "source": [
    "def lagrangian(tolerance, alpha, lambdas):\n",
    "    # Initialization\n",
    "    lb = np.NINF\n",
    "    ub = np.Inf\n",
    "    h = 0\n",
    "    # New LB and UB, lamba updates\n",
    "    while True:\n",
    "        h += 1\n",
    "        cur_lb, x_df = calc_lb(lambdas)\n",
    "        cur_ub = calc_ub(lambdas)[0]\n",
    "\n",
    "        lb = max(lb, cur_lb)\n",
    "        ub = min(ub, cur_ub)\n",
    "        norm_dif = (ub-lb)/lb if lb !=0 else np.Inf\n",
    "        if norm_dif <= tolerance:\n",
    "            break;\n",
    "            \n",
    "        s_j= subgrad(x_df)\n",
    "        beta = B(alpha, ub, cur_lb, s_j)\n",
    "\n",
    "        lambdas = lambdas + beta * s_j\n",
    "    \n",
    "    return lb, ub, lambdas, beta, s_j, x_df, norm_dif, h"
   ]
  },
  {
   "cell_type": "code",
   "execution_count": 17,
   "id": "f4712a3f-4cbf-4f17-a272-b299422b74d0",
   "metadata": {},
   "outputs": [],
   "source": [
    "def test_lag(lambdas, lb, ub):\n",
    "\n",
    "    # New LB and UB, lamba updates\n",
    "    cur_lb, x_df = calc_lb(lambdas)\n",
    "    cur_ub = calc_ub(lambdas)[0]\n",
    "\n",
    "    lb = max(lb, cur_lb)\n",
    "    ub = min(ub, cur_ub)\n",
    "\n",
    "    s_j= subgrad(x_df)\n",
    "    beta = B(0.5, ub, cur_lb, s_j)\n",
    "\n",
    "    lambdas = lambdas + beta * s_j\n",
    "    \n",
    "    return lb, ub, lambdas, beta, s_j"
   ]
  },
  {
   "cell_type": "code",
   "execution_count": 18,
   "id": "e6f28f7a-1d65-417b-bb1f-272aafcf79ca",
   "metadata": {},
   "outputs": [
    {
     "data": {
      "text/plain": [
       "(1079.6102950857548,\n",
       " 1218.08,\n",
       " array([-155.88810555, -183.65992848, -146.95856951, -233.23938685,\n",
       "        -117.55532837, -124.59444568, -138.38367807]),\n",
       " 6.640789868037714,\n",
       " array([ 1.        ,  0.        ,  2.        ,  0.1       ,  0.        ,\n",
       "         3.        , -0.25581395]),\n",
       "           1    2    3    4         5    6    7\n",
       " 1  0.000000  0.0  0.0  0.0  0.000000  0.0  0.0\n",
       " 2  0.000000  0.0  0.0  0.0  0.000000  0.0  0.0\n",
       " 3  0.000000  0.0  0.0  0.0  0.000000  0.0  0.0\n",
       " 4  1.000000  0.0  1.0  0.0  0.259259  0.0  1.0\n",
       " 5  0.000000  0.0  0.0  0.0  0.000000  0.0  0.0\n",
       " 6  0.972222  1.0  0.0  0.0  0.000000  0.0  1.0,\n",
       " 0.12825897043085002,\n",
       " 415)"
      ]
     },
     "execution_count": 18,
     "metadata": {},
     "output_type": "execute_result"
    }
   ],
   "source": [
    "lagrangian(0.1291, 0.5, [0,0,0,0,0,0,0])"
   ]
  },
  {
   "cell_type": "code",
   "execution_count": 19,
   "id": "f8ad1092-1ce2-4481-a94e-552468269ef9",
   "metadata": {},
   "outputs": [
    {
     "data": {
      "text/plain": [
       "(1079.6102950857548,\n",
       " 1218.08,\n",
       " array([-155.88810555, -183.65992848, -146.95856951, -233.23938685,\n",
       "        -117.55532837, -124.59444568, -138.38367807]),\n",
       " 6.640789868037714,\n",
       " array([ 1.        ,  0.        ,  2.        ,  0.1       ,  0.        ,\n",
       "         3.        , -0.25581395]),\n",
       "           1    2    3    4         5    6    7\n",
       " 1  0.000000  0.0  0.0  0.0  0.000000  0.0  0.0\n",
       " 2  0.000000  0.0  0.0  0.0  0.000000  0.0  0.0\n",
       " 3  0.000000  0.0  0.0  0.0  0.000000  0.0  0.0\n",
       " 4  1.000000  0.0  1.0  0.0  0.259259  0.0  1.0\n",
       " 5  0.000000  0.0  0.0  0.0  0.000000  0.0  0.0\n",
       " 6  0.972222  1.0  0.0  0.0  0.000000  0.0  1.0,\n",
       " 0.12825897043085002,\n",
       " 415)"
      ]
     },
     "execution_count": 19,
     "metadata": {},
     "output_type": "execute_result"
    }
   ],
   "source": [
    "lagrangian(0.1291, 0.5, [0,0,0,0,0,0,0])"
   ]
  },
  {
   "cell_type": "code",
   "execution_count": null,
   "id": "74acb457-e58a-4a44-953d-fe58b42afa72",
   "metadata": {},
   "outputs": [],
   "source": []
  }
 ],
 "metadata": {
  "kernelspec": {
   "display_name": "Python 3 (ipykernel)",
   "language": "python",
   "name": "python3"
  },
  "language_info": {
   "codemirror_mode": {
    "name": "ipython",
    "version": 3
   },
   "file_extension": ".py",
   "mimetype": "text/x-python",
   "name": "python",
   "nbconvert_exporter": "python",
   "pygments_lexer": "ipython3",
   "version": "3.8.12"
  }
 },
 "nbformat": 4,
 "nbformat_minor": 5
}
