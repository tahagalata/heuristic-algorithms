{
 "cells": [
  {
   "cell_type": "code",
   "execution_count": 7,
   "id": "ec37bd8e-2fc6-499e-9652-dbc0753780ca",
   "metadata": {},
   "outputs": [],
   "source": [
    "import numpy as np\n",
    "import pandas as pd\n",
    "from scipy.optimize import linprog"
   ]
  },
  {
   "cell_type": "code",
   "execution_count": 8,
   "id": "bf1ff573-e051-460d-9226-a44926d1507c",
   "metadata": {},
   "outputs": [
    {
     "data": {
      "text/html": [
       "<div>\n",
       "<style scoped>\n",
       "    .dataframe tbody tr th:only-of-type {\n",
       "        vertical-align: middle;\n",
       "    }\n",
       "\n",
       "    .dataframe tbody tr th {\n",
       "        vertical-align: top;\n",
       "    }\n",
       "\n",
       "    .dataframe thead th {\n",
       "        text-align: right;\n",
       "    }\n",
       "</style>\n",
       "<table border=\"1\" class=\"dataframe\">\n",
       "  <thead>\n",
       "    <tr style=\"text-align: right;\">\n",
       "      <th></th>\n",
       "      <th>1</th>\n",
       "      <th>2</th>\n",
       "      <th>3</th>\n",
       "      <th>4</th>\n",
       "      <th>5</th>\n",
       "      <th>6</th>\n",
       "      <th>7</th>\n",
       "    </tr>\n",
       "  </thead>\n",
       "  <tbody>\n",
       "    <tr>\n",
       "      <th>1</th>\n",
       "      <td>83.16</td>\n",
       "      <td>122.22</td>\n",
       "      <td>82.62</td>\n",
       "      <td>133.5</td>\n",
       "      <td>81.81</td>\n",
       "      <td>65.7</td>\n",
       "      <td>52.89</td>\n",
       "    </tr>\n",
       "    <tr>\n",
       "      <th>2</th>\n",
       "      <td>97.20</td>\n",
       "      <td>98.28</td>\n",
       "      <td>75.48</td>\n",
       "      <td>147.0</td>\n",
       "      <td>40.50</td>\n",
       "      <td>70.2</td>\n",
       "      <td>110.94</td>\n",
       "    </tr>\n",
       "    <tr>\n",
       "      <th>3</th>\n",
       "      <td>123.84</td>\n",
       "      <td>99.12</td>\n",
       "      <td>76.16</td>\n",
       "      <td>130.0</td>\n",
       "      <td>79.92</td>\n",
       "      <td>38.4</td>\n",
       "      <td>101.48</td>\n",
       "    </tr>\n",
       "    <tr>\n",
       "      <th>4</th>\n",
       "      <td>75.60</td>\n",
       "      <td>123.48</td>\n",
       "      <td>42.84</td>\n",
       "      <td>195.0</td>\n",
       "      <td>72.90</td>\n",
       "      <td>88.2</td>\n",
       "      <td>59.34</td>\n",
       "    </tr>\n",
       "    <tr>\n",
       "      <th>5</th>\n",
       "      <td>139.32</td>\n",
       "      <td>107.10</td>\n",
       "      <td>78.54</td>\n",
       "      <td>121.5</td>\n",
       "      <td>36.45</td>\n",
       "      <td>65.7</td>\n",
       "      <td>99.33</td>\n",
       "    </tr>\n",
       "    <tr>\n",
       "      <th>6</th>\n",
       "      <td>83.88</td>\n",
       "      <td>92.82</td>\n",
       "      <td>124.10</td>\n",
       "      <td>134.5</td>\n",
       "      <td>75.87</td>\n",
       "      <td>69.9</td>\n",
       "      <td>48.59</td>\n",
       "    </tr>\n",
       "  </tbody>\n",
       "</table>\n",
       "</div>"
      ],
      "text/plain": [
       "        1       2       3      4      5     6       7\n",
       "1   83.16  122.22   82.62  133.5  81.81  65.7   52.89\n",
       "2   97.20   98.28   75.48  147.0  40.50  70.2  110.94\n",
       "3  123.84   99.12   76.16  130.0  79.92  38.4  101.48\n",
       "4   75.60  123.48   42.84  195.0  72.90  88.2   59.34\n",
       "5  139.32  107.10   78.54  121.5  36.45  65.7   99.33\n",
       "6   83.88   92.82  124.10  134.5  75.87  69.9   48.59"
      ]
     },
     "execution_count": 8,
     "metadata": {},
     "output_type": "execute_result"
    }
   ],
   "source": [
    "c_list = [[83.16, 122.22, 82.62, 133.50, 81.81, 65.70, 52.89],\n",
    "          [97.20, 98.28, 75.48, 147.00, 40.50, 70.20, 110.94],\n",
    "          [123.84, 99.12, 76.16, 130.00, 79.92, 38.40, 101.48],\n",
    "          [75.60, 123.48, 42.84, 195.00, 72.90, 88.20, 59.34],\n",
    "          [139.32, 107.10, 78.54, 121.50, 36.45, 65.70, 99.33],\n",
    "          [83.88, 92.82, 124.10, 134.50, 75.87, 69.90, 48.59]]\n",
    "c= pd.DataFrame(c_list, index=range(1,7), columns=range(1,8))\n",
    "\n",
    "c #i: potential sites, j: farms"
   ]
  },
  {
   "cell_type": "code",
   "execution_count": 9,
   "id": "999af168-dd89-4b05-bf0d-f03084e850ec",
   "metadata": {},
   "outputs": [
    {
     "data": {
      "text/plain": [
       "1    36\n",
       "2    42\n",
       "3    34\n",
       "4    50\n",
       "5    27\n",
       "6    30\n",
       "7    43\n",
       "dtype: int64"
      ]
     },
     "execution_count": 9,
     "metadata": {},
     "output_type": "execute_result"
    }
   ],
   "source": [
    "d= pd.Series([36, 42, 34, 50, 27, 30, 43], index=range(1,8))\n",
    "d# Demands of farms"
   ]
  },
  {
   "cell_type": "code",
   "execution_count": 10,
   "id": "14b038c8-fd20-4920-a9ab-5d7505f9e578",
   "metadata": {},
   "outputs": [
    {
     "data": {
      "text/plain": [
       "1     80\n",
       "2     90\n",
       "3    110\n",
       "4    120\n",
       "5    100\n",
       "6    120\n",
       "dtype: int64"
      ]
     },
     "execution_count": 10,
     "metadata": {},
     "output_type": "execute_result"
    }
   ],
   "source": [
    "q= pd.Series([80,90, 110, 120, 100, 120], index= range(1,7))\n",
    "q # Daily forage throughput of potential sites (supplies)"
   ]
  },
  {
   "cell_type": "code",
   "execution_count": 11,
   "id": "a5dd811b-fdbf-4e53-83d1-5e71fd606cd8",
   "metadata": {},
   "outputs": [
    {
     "data": {
      "text/plain": [
       "1    220\n",
       "2    240\n",
       "3    260\n",
       "4    275\n",
       "5    240\n",
       "6    230\n",
       "dtype: int64"
      ]
     },
     "execution_count": 11,
     "metadata": {},
     "output_type": "execute_result"
    }
   ],
   "source": [
    "f= pd.Series([220, 240, 260, 275, 240, 230], index= range(1,7))\n",
    "f #daily fixed cost of potential sites                 "
   ]
  },
  {
   "cell_type": "code",
   "execution_count": 12,
   "id": "0cd28b59-4354-4677-9114-0fe23d770ba9",
   "metadata": {},
   "outputs": [
    {
     "data": {
      "text/plain": [
       "1    3.0\n",
       "2    3.0\n",
       "3    2.0\n",
       "4    2.0\n",
       "5    2.0\n",
       "6    2.0\n",
       "dtype: float64"
      ]
     },
     "execution_count": 12,
     "metadata": {},
     "output_type": "execute_result"
    }
   ],
   "source": [
    "tabu_life = np.round(f/q)\n",
    "tabu_life"
   ]
  },
  {
   "cell_type": "code",
   "execution_count": 13,
   "id": "45c45710-a380-4a7e-aa7b-e742a675c632",
   "metadata": {},
   "outputs": [],
   "source": [
    "def simplex(facilities):\n",
    "    #facilities.sort()\n",
    "    \n",
    "    coefs = c.loc[facilities, :].to_numpy().flatten()\n",
    "    num_i = len(facilities)\n",
    "    \n",
    "    smaller_coef = np.zeros((num_i,num_i*7), dtype='float64')\n",
    "    for i in range(num_i):\n",
    "        j = 7 * i\n",
    "        smaller_coef[i][j : j + 7] = d\n",
    "        \n",
    "    smaller_rhs = q[facilities]\n",
    "    \n",
    "    equal_coef = np.zeros((7, num_i * 7))\n",
    "    for i in range(7):\n",
    "        equal_coef[i][i::7] = [1] * num_i\n",
    "    \n",
    "    equal_rhs = [1] * 7\n",
    "    \n",
    "    res = linprog(coefs,\n",
    "                  A_ub=smaller_coef, b_ub=smaller_rhs, \n",
    "                  A_eq=equal_coef, b_eq=equal_rhs, \n",
    "                  method='revised simplex')\n",
    "    \n",
    "    x = res.x\n",
    "    x_split = np.split(x, num_i)\n",
    "    x_df = pd.DataFrame(x_split, columns=range(1,8), index= facilities)\n",
    "    \n",
    "    return res.fun + np.sum(f[facilities]), x_df"
   ]
  },
  {
   "cell_type": "code",
   "execution_count": 14,
   "id": "7877f0ac-33d8-4d0e-8de0-3a74ca8ed679",
   "metadata": {},
   "outputs": [],
   "source": [
    "def gen_initial_sol():\n",
    "    demand_satisfied = 0\n",
    "    total_demand = np.sum(d)\n",
    "    \n",
    "    closed_fac = set(range(1,7))\n",
    "    \n",
    "    opened_fac = set()\n",
    "    \n",
    "    while demand_satisfied < total_demand:\n",
    "        fac = np.random.choice(list(closed_fac))\n",
    "        opened_fac.add(fac)\n",
    "        closed_fac.remove(fac)\n",
    "        \n",
    "        demand_satisfied += q[fac]\n",
    "    \n",
    "    return simplex(opened_fac)"
   ]
  },
  {
   "cell_type": "code",
   "execution_count": 15,
   "id": "02a79d87-a217-4e00-a4d3-d9e53a96606e",
   "metadata": {},
   "outputs": [
    {
     "data": {
      "text/plain": [
       "(1256.9499999999998,\n",
       "      1    2    3             4    5    6    7\n",
       " 1  0.0  0.0  0.0  1.000000e+00  0.0  1.0  0.0\n",
       " 4  1.0  0.0  1.0  0.000000e+00  1.0  0.0  0.0\n",
       " 6  0.0  1.0  0.0  1.110223e-16  0.0  0.0  1.0)"
      ]
     },
     "execution_count": 15,
     "metadata": {},
     "output_type": "execute_result"
    }
   ],
   "source": [
    "gen_initial_sol()"
   ]
  },
  {
   "cell_type": "code",
   "execution_count": 16,
   "id": "251f301c-5876-4127-a70d-060cd84dd70a",
   "metadata": {},
   "outputs": [],
   "source": [
    "def find_neighbours(opened_fac):\n",
    "    closed_fac = set(range(1,7)).difference(opened_fac)\n",
    "    \n",
    "    current_capacity = np.sum(q[opened_fac])\n",
    "    total_demand = np.sum(d)\n",
    "    \n",
    "    neighbours = []\n",
    "    \n",
    "    for i in opened_fac:\n",
    "        for j in closed_fac:\n",
    "            opened_copy = opened_fac.copy()\n",
    "            closed_copy = closed_fac.copy()\n",
    "            if current_capacity - q[i] + q[j] >= total_demand:\n",
    "                # CLOSE: opened facility i\n",
    "                opened_copy.remove(i)\n",
    "                closed_copy.add(i)\n",
    "\n",
    "                # OPEN: closed facility j\n",
    "                opened_copy.add(j)\n",
    "                closed_copy.remove(j)\n",
    "                \n",
    "            neighbours.append(opened_copy)\n",
    "    \n",
    "    return neighbours"
   ]
  },
  {
   "cell_type": "code",
   "execution_count": 17,
   "id": "e5093f0b-1046-461e-8a3f-0402b690f40e",
   "metadata": {},
   "outputs": [
    {
     "data": {
      "text/plain": [
       "[{1, 5, 6},\n",
       " {2, 5, 6},\n",
       " {3, 5, 6},\n",
       " {1, 4, 6},\n",
       " {2, 4, 6},\n",
       " {3, 4, 6},\n",
       " {1, 4, 5},\n",
       " {2, 4, 5},\n",
       " {3, 4, 5}]"
      ]
     },
     "execution_count": 17,
     "metadata": {},
     "output_type": "execute_result"
    }
   ],
   "source": [
    "find_neighbours({4,5,6}) #closed 1,2,3"
   ]
  },
  {
   "cell_type": "code",
   "execution_count": 18,
   "id": "13ad87a8-f9f5-465f-9957-d56573b5bed8",
   "metadata": {},
   "outputs": [],
   "source": [
    "def tabu_search():\n",
    "    # Initialization    \n",
    "    s = gen_initial_sol()\n",
    "    tabu_list = []\n",
    "    current_best = s\n",
    "    \n",
    "    # Tabu Search\n",
    "    for t in range(1,101):\n",
    "        opened_fac = set(s[1].index)\n",
    "        neighbours = find_neighbours(opened_fac)\n",
    "        \n",
    "        # Get the tabu facilities from tabu list\n",
    "        tabu_fac = {tabu[0] for tabu in tabu_list}\n",
    "        \n",
    "        feasible_set = []\n",
    "        # Add neighbour to feasible set if it does not contain any tabu facility\n",
    "        for n in neighbours:\n",
    "            if n.isdisjoint(tabu_fac):\n",
    "                feasible_set.append(n)\n",
    "        \n",
    "        # If feasible set is empty, continue with the next iteration\n",
    "        if feasible_set == []:\n",
    "            # Remove tabus which are expired\n",
    "            for i in tabu_list:\n",
    "                if i[1] <= t:\n",
    "                    tabu_list.remove(i)\n",
    "            continue\n",
    "            \n",
    "        # Assign farms to facilities and get the costs\n",
    "        simplex_results = []\n",
    "        for sol in feasible_set:\n",
    "            result = simplex(sol)\n",
    "            simplex_results.append(result)\n",
    "        \n",
    "        new_s = min(simplex_results, key= lambda sol:sol[0])\n",
    "        \n",
    "        # Get the indexes (open facilities) of new and old solution, and compare to create a tabu \n",
    "        tabu = list(set(s[1].index).difference(set(new_s[1].index)))\n",
    "        # Appending the expiry time for the tabu\n",
    "        tabu.append(t + tabu_life[tabu[0]])\n",
    "        \n",
    "        # Add tabu to the tabu list\n",
    "        tabu_list.append(tabu)\n",
    "        \n",
    "        # Update best solution if new solution is better\n",
    "        s = new_s\n",
    "        if s[0] < current_best[0]:\n",
    "            current_best = s\n",
    "        \n",
    "        # Remove tabus which are expired\n",
    "        for i in tabu_list:\n",
    "            if i[1] <= t:\n",
    "                tabu_list.remove(i)\n",
    "    return current_best"
   ]
  },
  {
   "cell_type": "code",
   "execution_count": 19,
   "id": "001902f3-ef3a-4fa3-987a-b29a355c4542",
   "metadata": {},
   "outputs": [
    {
     "data": {
      "text/plain": [
       "(1218.08,\n",
       "      1    2         3    4    5    6    7\n",
       " 1  1.0  0.0  0.323529  0.0  0.0  1.0  0.0\n",
       " 5  0.0  0.0  0.676471  1.0  1.0  0.0  0.0\n",
       " 6  0.0  1.0  0.000000  0.0  0.0  0.0  1.0)"
      ]
     },
     "execution_count": 19,
     "metadata": {},
     "output_type": "execute_result"
    }
   ],
   "source": [
    "tabu_search()"
   ]
  },
  {
   "cell_type": "code",
   "execution_count": null,
   "id": "2d3d65e9-ffd5-4cc9-ad15-d2ce22d8d979",
   "metadata": {},
   "outputs": [],
   "source": []
  }
 ],
 "metadata": {
  "kernelspec": {
   "display_name": "Python 3 (ipykernel)",
   "language": "python",
   "name": "python3"
  },
  "language_info": {
   "codemirror_mode": {
    "name": "ipython",
    "version": 3
   },
   "file_extension": ".py",
   "mimetype": "text/x-python",
   "name": "python",
   "nbconvert_exporter": "python",
   "pygments_lexer": "ipython3",
   "version": "3.8.12"
  }
 },
 "nbformat": 4,
 "nbformat_minor": 5
}
